{
 "cells": [
  {
   "cell_type": "markdown",
   "metadata": {},
   "source": [
    "Here we will talk about how to create an evaluation function for a chess game given the position as the input.\n",
    "we will take the input as 12 bitboards (one for each piece type)"
   ]
  },
  {
   "cell_type": "code",
   "execution_count": 1,
   "metadata": {},
   "outputs": [],
   "source": [
    "\n",
    "def evaluate_position(boards) -> dict:\n",
    "    pass"
   ]
  },
  {
   "cell_type": "markdown",
   "metadata": {},
   "source": [
    "Then for one colour to have won or lost, we will need a large number to represent that"
   ]
  },
  {
   "cell_type": "code",
   "execution_count": null,
   "metadata": {},
   "outputs": [],
   "source": [
    "def evaluate_position(boards):\n",
    "    if boards.white_mated(): return 100000\n",
    "    if boards.black_mated(): return -100000\n",
    "    if boards.is_stalemate(): return 0\n"
   ]
  },
  {
   "cell_type": "markdown",
   "metadata": {},
   "source": [
    "If the game is not over we will need to calculate score based on material value and position\n",
    "    there are many more ways to evaluate a position but this is a simple example\n",
    "Each piece has a value assigned based on its type.\n",
    "Pawn   = 1\n",
    "Knight = 3\n",
    "Bishop = 3\n",
    "Rook   = 5\n",
    "Queen  = 9\n",
    "\n",
    "Then we subtract the black score from the white score to get an estimate"
   ]
  },
  {
   "cell_type": "code",
   "execution_count": null,
   "metadata": {},
   "outputs": [],
   "source": [
    "def evaluate_position(boards) -> dict:\n",
    "    white_score = 0\n",
    "    black_score = 0\n",
    "\n",
    "    return white_score - black_score"
   ]
  },
  {
   "cell_type": "markdown",
   "metadata": {},
   "source": [
    "For the evaluation function we need many more functions to help calculate the scores\n",
    "Such as functions to count pieces etc."
   ]
  },
  {
   "cell_type": "code",
   "execution_count": 1,
   "metadata": {},
   "outputs": [
    {
     "name": "stdout",
     "output_type": "stream",
     "text": [
      "8\n"
     ]
    }
   ],
   "source": [
    "def count_pieces(bitboard):\n",
    "    return bin(bitboard).count('1')\n",
    "\n",
    "w_pawns = 0b0000000000000000000000000000000000000000000000001111111100000000\n",
    "print(count_pieces(w_pawns))"
   ]
  },
  {
   "cell_type": "code",
   "execution_count": 9,
   "metadata": {},
   "outputs": [
    {
     "name": "stdout",
     "output_type": "stream",
     "text": [
      "0\n"
     ]
    }
   ],
   "source": [
    "def evaluate_position(boards) -> dict:\n",
    "    white_score = 0\n",
    "    black_score = 0\n",
    "\n",
    "    white_score += count_pieces(boards['w_pawns'])\n",
    "    black_score += count_pieces(boards['b_pawns'])\n",
    "\n",
    "    return white_score - black_score\n",
    "\n",
    "w_pawns = 0b0000000000000000000000000000000000000000000000001111111100000000\n",
    "b_pawns = 0b0000000011111111000000000000000000000000000000000000000000000000\n",
    "\n",
    "boards = {'w_pawns': w_pawns, 'b_pawns': b_pawns }\n",
    "print(evaluate_position(boards))"
   ]
  },
  {
   "cell_type": "markdown",
   "metadata": {},
   "source": [
    "If you create all these functions as attributes of a class, you can then create an instance of the class and call the evaluate_position method."
   ]
  },
  {
   "cell_type": "code",
   "execution_count": 16,
   "metadata": {},
   "outputs": [
    {
     "name": "stdout",
     "output_type": "stream",
     "text": [
      "0\n"
     ]
    }
   ],
   "source": [
    "w_pawns = 0b0000000000000000000000000000000000000000000000001111111100000000\n",
    "b_pawns = 0b0000000011111111000000000000000000000000000000000000000000000000\n",
    "\n",
    "boards = {'w_pawns': w_pawns, 'b_pawns': b_pawns }\n",
    "\n",
    "class ChessEvaluator:\n",
    "    def __init__(self, boards):\n",
    "        self.boards = boards\n",
    "\n",
    "    def evaluate_position(self) -> dict:\n",
    "        white_score = 0\n",
    "        black_score = 0\n",
    "\n",
    "        white_score += count_pieces(self.boards['w_pawns'])\n",
    "        black_score += count_pieces(self.boards['b_pawns'])\n",
    "\n",
    "        return white_score - black_score\n",
    "\n",
    "stockfish = ChessEvaluator(boards)\n",
    "print(stockfish.evaluate_position())"
   ]
  },
  {
   "cell_type": "markdown",
   "metadata": {},
   "source": [
    "In future the engine should be able to take any input and return a score\n",
    "inputs could be bitboard form or something like:\n",
    "    \" rnbqkbnr\\n\"  #  20 - 29\n",
    "    \" pppppppp\\n\"  #  30 - 39\n",
    "    \" ........\\n\"  #  40 - 49\n",
    "    \" ........\\n\"  #  50 - 59\n",
    "    \" ........\\n\"  #  60 - 69\n",
    "    \" ........\\n\"  #  70 - 79\n",
    "    \" PPPPPPPP\\n\"  #  80 - 89\n",
    "    \" RNBQKBNR\\n\"\n",
    "\n",
    "Which is then converted to 12 bitboards\n"
   ]
  }
 ],
 "metadata": {
  "kernelspec": {
   "display_name": "Python 3",
   "language": "python",
   "name": "python3"
  },
  "language_info": {
   "codemirror_mode": {
    "name": "ipython",
    "version": 3
   },
   "file_extension": ".py",
   "mimetype": "text/x-python",
   "name": "python",
   "nbconvert_exporter": "python",
   "pygments_lexer": "ipython3",
   "version": "3.9.6"
  }
 },
 "nbformat": 4,
 "nbformat_minor": 2
}
