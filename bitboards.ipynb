{
 "cells": [
  {
   "cell_type": "markdown",
   "metadata": {},
   "source": [
    "A chess board has 64 squares, therefore the position of each piece can be respresented by a single 64 bit integer.\n",
    "For example if white has all pawns in thier starting postion, their bitboards would look like this:\n"
   ]
  },
  {
   "cell_type": "code",
   "execution_count": 27,
   "metadata": {},
   "outputs": [
    {
     "name": "stdout",
     "output_type": "stream",
     "text": [
      "65280\n",
      "16\n"
     ]
    }
   ],
   "source": [
    "w_pawns = 0b0000000000000000000000000000000000000000000000001111111100000000\n",
    "print(w_pawns)\n",
    "# White Queen\n",
    "w_queen = 0b0000000000000000000000000000000000000000000000000000000000010000\n",
    "print(w_queen)"
   ]
  },
  {
   "cell_type": "markdown",
   "metadata": {},
   "source": [
    "I have also included the bitboard for the White Queen.\n",
    "The hope is that you can combine these bitboards using bitwise operations to display the static state of any chess position."
   ]
  },
  {
   "cell_type": "markdown",
   "metadata": {},
   "source": [
    "Bellow is a simple example of how to print a 64-bit binary representation of a given integer:"
   ]
  },
  {
   "cell_type": "code",
   "execution_count": 33,
   "metadata": {},
   "outputs": [
    {
     "data": {
      "text/plain": [
       "'0000000000000000000000000000000000000000000000000000000000000010'"
      ]
     },
     "execution_count": 33,
     "metadata": {},
     "output_type": "execute_result"
    }
   ],
   "source": [
    "\"{0:064b}\".format(0x2)"
   ]
  },
  {
   "cell_type": "code",
   "execution_count": 8,
   "metadata": {},
   "outputs": [
    {
     "name": "stdout",
     "output_type": "stream",
     "text": [
      "11111111\n",
      "11111111\n",
      "00000000\n",
      "00000000\n",
      "00000000\n",
      "00000000\n",
      "11111111\n",
      "11111111\n"
     ]
    }
   ],
   "source": [
    "def board_setup():\n",
    "    w_pawns  = 0b0000000000000000000000000000000000000000000000001111111100000000\n",
    "    w_rooks  = 0b0000000000000000000000000000000000000000000000000000000010000001\n",
    "    w_knights= 0b0000000000000000000000000000000000000000000000000000000001000010\n",
    "    w_bishops= 0b0000000000000000000000000000000000000000000000000000000000100100\n",
    "    w_queen  = 0b0000000000000000000000000000000000000000000000000000000000010000\n",
    "    w_king   = 0b0000000000000000000000000000000000000000000000000000000000001000\n",
    "\n",
    "    b_pawns  = 0b0000000011111111000000000000000000000000000000000000000000000000\n",
    "    b_rooks  = 0b1000000100000000000000000000000000000000000000000000000000000000\n",
    "    b_knights= 0b0100001000000000000000000000000000000000000000000000000000000000\n",
    "    b_bishops= 0b0010010000000000000000000000000000000000000000000000000000000000\n",
    "    b_queen  = 0b0001000000000000000000000000000000000000000000000000000000000000\n",
    "    b_king   = 0b0000100000000000000000000000000000000000000000000000000000000000\n",
    "\n",
    "    return \"{0:064b}\".format(b_pawns+b_rooks+b_knights+b_bishops+b_queen+b_king+w_pawns+w_rooks+w_knights+w_bishops+w_queen+w_king)\n",
    "    \n",
    "board = board_setup()\n",
    "for i in range(8):\n",
    "    print(board[8*i:8*i+8])\n",
    "    "
   ]
  },
  {
   "cell_type": "markdown",
   "metadata": {},
   "source": [
    "With an evaluation function we could send the 12 bitboards to the function and return whether the position is better for black and white\n",
    "\n",
    "If we wanted to incorporate the bitboard and evaluation function into a full chess engine, we would need a way to move pieces and a visual board for the player to use."
   ]
  },
  {
   "cell_type": "markdown",
   "metadata": {},
   "source": [
    "For now we may just create a program than simply takes a chess position as an input and outputs who is winning or if someones has won, a draw etc. as well as potentially the best next move for each colour."
   ]
  },
  {
   "cell_type": "code",
   "execution_count": 2,
   "metadata": {},
   "outputs": [
    {
     "name": "stdout",
     "output_type": "stream",
     "text": [
      "[57, 64]\n"
     ]
    }
   ],
   "source": [
    "\n",
    "w_rooks  = 0b0000000000000000000000000000000000000000000000000000000010000001\n",
    "w_knights= 0b0000000000000000000000000000000000000000000000000000000001000010\n",
    "w_bishops= 0b0000000000000000000000000000000000000000000000000000000000100100\n",
    "w_queen  = 0b0000000000000000000000000000000000000000000000000000000000010000\n",
    "w_king   = 0b0000000000000000000000000000000000000000000000000000000000001000\n",
    "def find_all_set_bits(n):\n",
    "    binary_str = format(n, '064b')\n",
    "    return [i + 1 for i, bit in enumerate(binary_str) if bit == '1']\n",
    "\n",
    "print(find_all_set_bits(w_rooks))\n"
   ]
  }
 ],
 "metadata": {
  "kernelspec": {
   "display_name": "Python 3",
   "language": "python",
   "name": "python3"
  },
  "language_info": {
   "codemirror_mode": {
    "name": "ipython",
    "version": 3
   },
   "file_extension": ".py",
   "mimetype": "text/x-python",
   "name": "python",
   "nbconvert_exporter": "python",
   "pygments_lexer": "ipython3",
   "version": "3.9.6"
  }
 },
 "nbformat": 4,
 "nbformat_minor": 2
}
