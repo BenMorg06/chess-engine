{
 "cells": [
  {
   "cell_type": "markdown",
   "metadata": {},
   "source": [
    "To move pieces and or check the possible moves for pieces, we must use a bitwise shift depending on the piece type"
   ]
  },
  {
   "cell_type": "code",
   "execution_count": null,
   "metadata": {},
   "outputs": [],
   "source": [
    "N, E, S, W = 8, -1, -8, 1\n",
    "w_queen  = 0b0000000000000000000000000000000000000000000000000000000000010000\n",
    "def shift(direction, piece):\n",
    "    if direction < 1:\n",
    "        return \"{0:064b}\".format(piece >> abs(direction))\n",
    "    if direction >= 1:\n",
    "        return \"{0:064b}\".format(piece << abs(direction))\n",
    "\n",
    "\n",
    "def read_board(board):\n",
    "    for i in range(8):\n",
    "            print(board[8*i:8*i+8])\n",
    "#read_board(shift(N,w_queen))\n",
    "#print('\\n')\n",
    "#read_board(shift(S,w_queen))\n",
    "#print('\\n')\n",
    "read_board(shift(E,w_queen))\n",
    "print('\\n')\n",
    "read_board(shift(W,w_queen))"
   ]
  },
  {
   "cell_type": "code",
   "execution_count": 5,
   "metadata": {},
   "outputs": [
    {
     "name": "stdout",
     "output_type": "stream",
     "text": [
      "15\n",
      "0000000000000000000000000000000000000000000000000111111100000000\n",
      "14\n",
      "0000000000000000000000000000000000000000000000000011111100000000\n",
      "13\n",
      "0000000000000000000000000000000000000000000000000001111100000000\n",
      "12\n",
      "0000000000000000000000000000000000000000000000000000111100000000\n",
      "11\n",
      "0000000000000000000000000000000000000000000000000000011100000000\n",
      "10\n",
      "0000000000000000000000000000000000000000000000000000001100000000\n",
      "9\n",
      "0000000000000000000000000000000000000000000000000000000100000000\n",
      "8\n",
      "0000000000000000000000000000000000000000000000000000000000000000\n"
     ]
    }
   ],
   "source": [
    "def find_piece_moves(square):\n",
    "        pass\n",
    "\n",
    "W_Pawns  = 0b0000000000000000000000000000000000000000000000001111111100000000\n",
    "while W_Pawns:\n",
    "        square = W_Pawns.bit_length() - 1\n",
    "        W_Pawns ^= (1 << square)  # Remove the piece from the bitboard\n",
    "        print(square)\n",
    "        print('{0:064b}'.format(W_Pawns))\n",
    "\n",
    "        find_piece_moves(square)\n"
   ]
  }
 ],
 "metadata": {
  "kernelspec": {
   "display_name": "Python 3",
   "language": "python",
   "name": "python3"
  },
  "language_info": {
   "codemirror_mode": {
    "name": "ipython",
    "version": 3
   },
   "file_extension": ".py",
   "mimetype": "text/x-python",
   "name": "python",
   "nbconvert_exporter": "python",
   "pygments_lexer": "ipython3",
   "version": "3.9.6"
  }
 },
 "nbformat": 4,
 "nbformat_minor": 2
}
