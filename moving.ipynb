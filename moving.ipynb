{
 "cells": [
  {
   "cell_type": "markdown",
   "metadata": {},
   "source": [
    "To move pieces and or check the possible moves for pieces, we must use a bitwise shift depending on the piece type"
   ]
  },
  {
   "cell_type": "code",
   "execution_count": null,
   "metadata": {},
   "outputs": [],
   "source": [
    "N, E, S, W = 8, -1, -8, 1\n",
    "w_queen  = 0b0000000000000000000000000000000000000000000000000000000000010000\n",
    "def shift(direction, piece):\n",
    "    if direction < 1:\n",
    "        return \"{0:064b}\".format(piece >> abs(direction))\n",
    "    if direction >= 1:\n",
    "        return \"{0:064b}\".format(piece << abs(direction))\n",
    "\n",
    "\n",
    "def read_board(board):\n",
    "    for i in range(8):\n",
    "            print(board[8*i:8*i+8])\n",
    "#read_board(shift(N,w_queen))\n",
    "#print('\\n')\n",
    "#read_board(shift(S,w_queen))\n",
    "#print('\\n')\n",
    "read_board(shift(E,w_queen))\n",
    "print('\\n')\n",
    "read_board(shift(W,w_queen))"
   ]
  },
  {
   "cell_type": "code",
   "execution_count": null,
   "metadata": {},
   "outputs": [],
   "source": [
    "def find_piece_moves(square):\n",
    "        pass\n",
    "\n",
    "W_Pawns  = 0b0000000000000000000000000000000000000000000000001111111100000000\n",
    "while W_Pawns:\n",
    "        square = W_Pawns.bit_length() - 1\n",
    "        W_Pawns ^= (1 << square)  # Remove the piece from the bitboard\n",
    "        print(square)\n",
    "        print('{0:064b}'.format(W_Pawns))\n",
    "\n",
    "        find_piece_moves(square)\n"
   ]
  },
  {
   "cell_type": "markdown",
   "metadata": {},
   "source": [
    "We need a function to determine whether a pawn can move diagonally this can be done by looking at the solo piece and the whole board and if the new solo piece is in a already occupied square"
   ]
  },
  {
   "cell_type": "code",
   "execution_count": 13,
   "metadata": {},
   "outputs": [
    {
     "name": "stdout",
     "output_type": "stream",
     "text": [
      "00000000\n",
      "00000000\n",
      "00000000\n",
      "00000000\n",
      "00100000\n",
      "00010000\n",
      "00000000\n",
      "00000000\n",
      "Pawn can move diagonally\n",
      "00000000\n",
      "00000000\n",
      "00000000\n",
      "00000000\n",
      "00100000\n",
      "00000000\n",
      "00000000\n",
      "00000000\n"
     ]
    }
   ],
   "source": [
    "def read_board(boards):\n",
    "    board = \"{0:064b}\".format(boards['W_Pawns']+boards['B_Knights'])\n",
    "                                                                                                                                                                                                                                \n",
    "    for i in range(8):\n",
    "        print(board[8*i:8*i+8])\n",
    "\n",
    "def find_all_set_bits(n):\n",
    "    binary_str = format(n, '064b')\n",
    "    return [i + 1 for i, bit in enumerate(binary_str) if bit == '1']\n",
    "\n",
    "def take_piece(board, piece1, piece2, new_piece2):\n",
    "    board[piece1] =  board[piece1] - new_piece2\n",
    "    board[piece2] = new_piece2\n",
    "\n",
    "position = {\n",
    "    'W_Pawns'    :0b0000000000000000000000000000000000000000000100000000000000000000,\n",
    "    'B_Knights'  :0b0000000000000000000000000000000000100000000000000000000000000000\n",
    "}\n",
    "new_pawn = 0b0000000000000000000000000000000000100000000000000000000000000000\n",
    "new_pawn_position = find_all_set_bits(new_pawn)\n",
    "knight_position = find_all_set_bits(position['B_Knights'])\n",
    "read_board(position)\n",
    "\n",
    "if new_pawn_position == knight_position:\n",
    "    print('Pawn can move diagonally')\n",
    "\n",
    "take_piece(position, 'B_Knights', 'W_Pawns', new_pawn)\n",
    "read_board(position)"
   ]
  }
 ],
 "metadata": {
  "kernelspec": {
   "display_name": "Python 3",
   "language": "python",
   "name": "python3"
  },
  "language_info": {
   "codemirror_mode": {
    "name": "ipython",
    "version": 3
   },
   "file_extension": ".py",
   "mimetype": "text/x-python",
   "name": "python",
   "nbconvert_exporter": "python",
   "pygments_lexer": "ipython3",
   "version": "3.9.6"
  }
 },
 "nbformat": 4,
 "nbformat_minor": 2
}
